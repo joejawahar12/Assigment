{
  "nbformat": 4,
  "nbformat_minor": 0,
  "metadata": {
    "colab": {
      "name": "D35 Task - Jawahar",
      "provenance": [],
      "collapsed_sections": []
    },
    "kernelspec": {
      "name": "python3",
      "display_name": "Python 3"
    },
    "language_info": {
      "name": "python"
    }
  },
  "cells": [
    {
      "cell_type": "code",
      "execution_count": null,
      "metadata": {
        "colab": {
          "base_uri": "https://localhost:8080/"
        },
        "id": "Rwu0yLkuA9G-",
        "outputId": "f886162f-6e88-465d-cab7-560f9c7f0d3e"
      },
      "outputs": [
        {
          "output_type": "stream",
          "name": "stdout",
          "text": [
            "Today's Date =  2022-05-31\n"
          ]
        }
      ],
      "source": [
        "# 1. Date & Time\n",
        "\n",
        "from datetime import date\n",
        "today = date.today()\n",
        "print(\"Today's Date = \", today)"
      ]
    },
    {
      "cell_type": "code",
      "source": [
        "# 2. Write a Python program which accepts a sequence of comma-separated numbers from user and generate a list \n",
        "#  and a tuple with those number\n",
        "\n",
        "values = input(\"Input numbers with comma : \")\n",
        "list = values.split(\",\")\n",
        "tuple = tuple(list)\n",
        "print('List : ',list)\n",
        "print('Tuple : ',tuple)\n"
      ],
      "metadata": {
        "colab": {
          "base_uri": "https://localhost:8080/"
        },
        "id": "4MjMMnY-BXNv",
        "outputId": "e61c9859-4fc6-46f4-f111-c5e8d4cc7e98"
      },
      "execution_count": 1,
      "outputs": [
        {
          "output_type": "stream",
          "name": "stdout",
          "text": [
            "Input numbers with comma : 1,2,3,4\n",
            "List :  ['1', '2', '3', '4']\n",
            "Tuple :  ('1', '2', '3', '4')\n"
          ]
        }
      ]
    },
    {
      "cell_type": "code",
      "source": [
        "#Write a Python program to display the first and last colors from the following list.color_list = [\"Red\",\"Green\",\"White\" ,\"Black\"]\n",
        "\n",
        "color_list = [\"Red\",\"Green\",\"White\" ,\"Black\"]\n",
        "print( \"%s %s\"%(color_list[0],color_list[-1]))\n"
      ],
      "metadata": {
        "colab": {
          "base_uri": "https://localhost:8080/"
        },
        "id": "Ake6PCzqPSAr",
        "outputId": "c07a85e6-33e2-4d80-eb26-f603e33af8ed"
      },
      "execution_count": null,
      "outputs": [
        {
          "output_type": "stream",
          "name": "stdout",
          "text": [
            "Red Black\n"
          ]
        }
      ]
    },
    {
      "cell_type": "code",
      "source": [
        "#Write a Python program to test whether a number is within 100 of 1000 or 2000\n",
        "\n",
        "def near_thousand(n):\n",
        "      return ((abs(1000 - n) <= 100) or (abs(2000 - n) <= 100))\n",
        "print(near_thousand(500))\n",
        "print(near_thousand(900))\n",
        "print(near_thousand(700))   \n",
        "print(near_thousand(1000))\n",
        "print(near_thousand(2500))\n",
        "print(near_thousand(1100))\n"
      ],
      "metadata": {
        "colab": {
          "base_uri": "https://localhost:8080/"
        },
        "id": "V6gK6WqryFrn",
        "outputId": "88a25c05-df39-4609-ae73-bb99cebffd6e"
      },
      "execution_count": 4,
      "outputs": [
        {
          "output_type": "stream",
          "name": "stdout",
          "text": [
            "False\n",
            "True\n",
            "False\n",
            "True\n",
            "False\n",
            "True\n"
          ]
        }
      ]
    },
    {
      "cell_type": "code",
      "source": [
        "#Write a Python program to print all even numbers\n",
        "\n",
        "start = int(input(\"Enter starting range: \"))\n",
        "end = int(input(\"Enter ending range: \"))\n",
        " \n",
        "for num in range(start, end + 1):\n",
        "     \n",
        "    if num % 2 == 0:\n",
        "        print(num, end = \" \")"
      ],
      "metadata": {
        "colab": {
          "base_uri": "https://localhost:8080/"
        },
        "id": "fHm4A2sSy5Lr",
        "outputId": "7918eb8f-69ca-4852-fa5a-4efa24859f97"
      },
      "execution_count": 7,
      "outputs": [
        {
          "output_type": "stream",
          "name": "stdout",
          "text": [
            "Enter starting range: 9\n",
            "Enter ending range: 57\n",
            "10 12 14 16 18 20 22 24 26 28 30 32 34 36 38 40 42 44 46 48 50 52 54 56 "
          ]
        }
      ]
    },
    {
      "cell_type": "code",
      "source": [
        "#Write a Python program to get the difference between the two lists\n",
        "\n",
        "list1 = [1, 3, 4, 7]\n",
        "list2 = [1, 4, 5, 6]\n",
        "\n",
        "list_difference1 = []\n",
        "for item in list1:\n",
        "  if item not in list2:\n",
        "    list_difference1.append(item)\n",
        "\n",
        "list_difference2 = []\n",
        "for item in list2:\n",
        "  if item not in list1:\n",
        "    list_difference2.append(item)\n",
        "\n",
        "print(list_difference1 + list_difference2)"
      ],
      "metadata": {
        "colab": {
          "base_uri": "https://localhost:8080/"
        },
        "id": "7l9KToYQ1Ez0",
        "outputId": "58a5aa96-56a9-4fb9-8e49-c7685f556277"
      },
      "execution_count": 48,
      "outputs": [
        {
          "output_type": "stream",
          "name": "stdout",
          "text": [
            "[3, 7, 5, 6]\n"
          ]
        }
      ]
    },
    {
      "cell_type": "code",
      "source": [
        "# Write a Python program to find the list in a list of lists whose sum of elements is the highest.\n",
        "#Sample lists: [1,2,3], [4,5,6], [10,11,12], [7,8,9]\n",
        "\n",
        "num = [[1,2,3], [4,5,6], [10,11,12], [7,8,9]]\n",
        "print(max(num, key=sum))"
      ],
      "metadata": {
        "colab": {
          "base_uri": "https://localhost:8080/"
        },
        "id": "dBPLhSPK4j_e",
        "outputId": "687248ad-5c29-4ebc-ccf3-40c49fca353b"
      },
      "execution_count": 26,
      "outputs": [
        {
          "output_type": "stream",
          "name": "stdout",
          "text": [
            "[10, 11, 12]\n"
          ]
        }
      ]
    },
    {
      "cell_type": "code",
      "source": [
        "#Write a Python program to round every number of a given list of numbers and print the total sum multiplied by the length of the list.\n",
        "#Original list: [22.4, 4.0, -16.22, -9.1, 11.0, -12.22, 14.2, -5.2, 17.5]\n"
      ],
      "metadata": {
        "id": "0JuAg2q85Gpc"
      },
      "execution_count": 38,
      "outputs": []
    },
    {
      "cell_type": "code",
      "source": [
        "#9. Write a Python program to remove specific words from a given list. \n",
        "\n",
        "{\"\"\"No idea Please help!\"\"\"}"
      ],
      "metadata": {
        "id": "NnjqB9Zi9NW9"
      },
      "execution_count": 43,
      "outputs": []
    },
    {
      "cell_type": "code",
      "source": [
        "#10. Write a Python script to concatenate following dictionaries to create a new one. \n",
        "\n",
        "dic1={1:10, 2:20}\n",
        "dic2={3:30, 4:40}\n",
        "dic3={5:50, 6:60}\n",
        "dic4 = {}\n",
        "for d in (dic1, dic2, dic3): dic4.update(d)\n",
        "print(dic4)"
      ],
      "metadata": {
        "colab": {
          "base_uri": "https://localhost:8080/"
        },
        "id": "Nscy5RgK-gDx",
        "outputId": "f2655c20-4753-48f1-85c9-cecf5f27ae3c"
      },
      "execution_count": 44,
      "outputs": [
        {
          "output_type": "stream",
          "name": "stdout",
          "text": [
            "{1: 10, 2: 20, 3: 30, 4: 40, 5: 50, 6: 60}\n"
          ]
        }
      ]
    },
    {
      "cell_type": "code",
      "source": [
        "#Write a Python program to multiply all the items in a dictionary\n",
        "d = {\n",
        "    'a': 15,\n",
        "    'b': 10,\n",
        "    'c': 5,\n",
        "}\n",
        "\n",
        "answer = 1\n",
        "for i in d:\n",
        "    answer = answer*d[i]\n",
        "print(answer)"
      ],
      "metadata": {
        "colab": {
          "base_uri": "https://localhost:8080/"
        },
        "id": "4LF7Xm6k_I_n",
        "outputId": "08019f5a-a981-4fc7-ae30-b6e785f18862"
      },
      "execution_count": 47,
      "outputs": [
        {
          "output_type": "stream",
          "name": "stdout",
          "text": [
            "750\n"
          ]
        }
      ]
    },
    {
      "cell_type": "code",
      "source": [
        "#Write a Python program to get the 4th element and 4th element from last of a tuple.\n",
        "\n",
        "tuple1 = (\"i\", \"i\", \"t\", \"m\", \"d\", 3, 5, \"g\", \"u\", \"v\", \"i\")\n",
        "print(tuple1)\n",
        "\n",
        "item = tuple1[3]\n",
        "print(item)\n",
        "\n",
        "item1 = tuple1[-4]\n",
        "print(item1)\n"
      ],
      "metadata": {
        "colab": {
          "base_uri": "https://localhost:8080/"
        },
        "id": "jr6bo-w9_7jX",
        "outputId": "7936068d-eb26-4b8f-8910-83fa426e3f78"
      },
      "execution_count": 52,
      "outputs": [
        {
          "output_type": "stream",
          "name": "stdout",
          "text": [
            "('i', 'i', 't', 'm', 'd', 3, 5, 'g', 'u', 'v', 'i')\n",
            "m\n",
            "g\n"
          ]
        }
      ]
    },
    {
      "cell_type": "code",
      "source": [
        "#Write a Python program to convert a tuple to a dictionary\n",
        "\n",
        "tup = ((1, 'x'), (2, 'y'), (3, 'z'))\n",
        "print(tup)\n",
        "print(\"Data Type = \", type(tup))\n",
        "\n",
        "tupToDict = dict(tup)\n",
        "print(tupToDict)\n",
        "print(\"Data Type = \", type(tupToDict))"
      ],
      "metadata": {
        "colab": {
          "base_uri": "https://localhost:8080/"
        },
        "id": "h3VLp46sBm4y",
        "outputId": "779f65b5-04b7-4607-9e20-5fcd29a9ade8"
      },
      "execution_count": 54,
      "outputs": [
        {
          "metadata": {
            "tags": null
          },
          "name": "stdout",
          "output_type": "stream",
          "text": [
            "((1, 'x'), (2, 'y'), (3, 'z'))\n",
            "Data Type =  <class 'tuple'>\n",
            "{1: 'x', 2: 'y', 3: 'z'}\n",
            "Data Type =  <class 'dict'>\n"
          ]
        }
      ]
    },
    {
      "cell_type": "code",
      "source": [
        "#Write a Python program to remove all elements from a given set.\n",
        "\n",
        "setc = {\"Red\", \"Green\", \"Black\", \"White\"}\n",
        "print(\"Original set elements:\")\n",
        "print(setc)        \n",
        "print(\"\\nAfter removing all elements of the said set.\")\n",
        "setc.clear()\n",
        "print(setc)"
      ],
      "metadata": {
        "colab": {
          "base_uri": "https://localhost:8080/"
        },
        "id": "koEMuRU9CVZu",
        "outputId": "4669a166-36c5-4bd2-9fb6-dcc06dbaf68c"
      },
      "execution_count": 55,
      "outputs": [
        {
          "output_type": "stream",
          "name": "stdout",
          "text": [
            "Original set elements:\n",
            "{'Green', 'White', 'Black', 'Red'}\n",
            "\n",
            "After removing all elements of the said set.\n",
            "set()\n"
          ]
        }
      ]
    },
    {
      "cell_type": "code",
      "source": [
        "#Write a Python program to check if a given set is superset of itself and superset of another given set.\n",
        "\n",
        "{\"\"\"No idea, Please help\"\"\"}"
      ],
      "metadata": {
        "id": "3vFkzXIWDTe0"
      },
      "execution_count": null,
      "outputs": []
    }
  ]
}